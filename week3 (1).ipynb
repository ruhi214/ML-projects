{
 "cells": [
  {
   "cell_type": "markdown",
   "metadata": {},
   "source": [
    "1)\tBinomial distribution: \n",
    "\n",
    "A distribution where only two outcomes are possible, such as success or failure, gain or loss, win or lose and where the probability of success and failure is same for all the trials is called a Binomial Distribution.\n",
    "An experiment with only two possible outcomes repeated n number of times is called binomial. The parameters of a binomial distribution are n and p where n is the total number of trials and p is the probability of success in each trial.\n",
    "On the basis of the above explanation, the properties of a Binomial Distribution are\n",
    "\n",
    "1.\tEach trial is independent.\n",
    "2.\tThere are only two possible outcomes in a trial- either a success or a failure.\n",
    "3.\tA total number of n identical trials are conducted.\n",
    "4.\tThe probability of success and failure is same for all trials. (Trials are identical.)\n",
    "\n",
    " The mathematical representation of binomial distribution is given by:\n",
    "\n",
    "P(x) = n! /(n-x)! x!  p x q n-x\n",
    "\n",
    "Where n: no of trials\n",
    "x:no of success\n",
    "p: probability of success\n",
    "The mean and variance of a binomial distribution are given by:\n",
    "Mean -> µ = n*p\n",
    "Variance -> Var(X) = n*p*q\n"
   ]
  },
  {
   "cell_type": "markdown",
   "metadata": {},
   "source": [
    "2)  Gaussian distribution: \n",
    "\n",
    "1) It is a Bell-shaped curve also known as Normal Distribution. This curve is symmetric around the Mean. \n",
    "2)\tIt is assumed that during any measurement values will follow a normal distribution with an equal number of measurements above and below the mean value. \n",
    "3)\tIn order to understand normal distribution, it is important to know the definitions of “mean,” “median,” and “mode.” The “mean” is the calculated average of all values; the “median” is the value at the center point (mid-point) of the distribution, while the “mode” is the value that was observed most frequently during the measurement. If a distribution is normal, then the values of the mean, median and mode are the same. However, the value of the mean, median, and mode may be different if the distribution is skewed (not Gaussian distribution). \n",
    "\n"
   ]
  },
  {
   "attachments": {},
   "cell_type": "markdown",
   "metadata": {},
   "source": [
    "Logistic Regression:  \n",
    "\n",
    "1)\tIt comes under the Supervised Learning technique. It is used for predicting the categorical dependent variable using a given set of independent variables.\n",
    "\n",
    "2)\tLogistic regression is used for solving the classification problems like whether the cells are cancerous or not, a mouse is obese or not based on its weight, etc.\n",
    "\n",
    "3)\tIn Logistic regression, instead of fitting a regression line, we fit an \"S\" shaped logistic function, which predicts two maximum values (0 or 1).\n",
    "\n",
    "4)\tInstead of predicting exactly 0 or 1, logistic regression generates a probability—a value between 0 and 1, exclusive\n",
    "\n",
    "5)\tAlthough logistic regression is best suited for instances of binary classification, it can be applied to multiclass classification problems, classification tasks with three or more classes.\n",
    "\n",
    "6)\tThe equation for the Sigmoid function i.e S shaped curve is :\n",
    " y= 1 / (1 + e -x)\n"
   ]
  },
  {
   "attachments": {},
   "cell_type": "markdown",
   "metadata": {},
   "source": [
    "Decision tree classifier: \n",
    "\n",
    "1)\tIt is a Supervised Machine Learning where the data is continuously split according to a certain parameter.\n",
    "\n",
    "2)\tThe decision tree classifier creates the classification model by building a decision tree.\n",
    "\n",
    "3)\tEach node in the tree specifies a test on an attribute, each branch descending from that node corresponds to one of the possible values for that attribute.\n",
    "\n",
    "4)\tEach leaf represents class labels associated with the instance.\n",
    "\n",
    "\n",
    " \n",
    "\n",
    " \n"
   ]
  },
  {
   "cell_type": "markdown",
   "metadata": {},
   "source": [
    "Random Forest Classifier:\n",
    "\n",
    "1)\tRandom forest is a supervised learning algorithm. It can be used both for classification and regression.\n",
    "\n",
    "2)\tRandom forest classifier creates a set of decision trees from randomly selected subset of training set. It then aggregates the votes from different decision trees to decide the final class of the test object.\n",
    "\n",
    "3)\tIt works in four steps: a) Select random samples from a given dataset.\n",
    "b) Construct a decision tree for each sample and get a prediction result from each decision tree.\n",
    "c) Perform a vote for each predicted result.\n",
    "d) Select the prediction result with the most votes as the final prediction.\n",
    "      \n",
    "4) It technically is an ensemble method (based on the divide-and-conquer approach) of decision trees generated on a randomly split dataset. \n",
    "\n",
    "5)\tIt does not suffer from the overfitting problem. The main reason is that it takes the average of all the predictions, which cancels out the biases.\n"
   ]
  }
 ],
 "metadata": {
  "kernelspec": {
   "display_name": "Python 3",
   "language": "python",
   "name": "python3"
  },
  "language_info": {
   "codemirror_mode": {
    "name": "ipython",
    "version": 3
   },
   "file_extension": ".py",
   "mimetype": "text/x-python",
   "name": "python",
   "nbconvert_exporter": "python",
   "pygments_lexer": "ipython3",
   "version": "3.7.4"
  }
 },
 "nbformat": 4,
 "nbformat_minor": 4
}
