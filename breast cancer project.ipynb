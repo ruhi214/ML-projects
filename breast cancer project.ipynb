{
 "cells": [
  {
   "cell_type": "code",
   "execution_count": 2,
   "metadata": {},
   "outputs": [
    {
     "name": "stdout",
     "output_type": "stream",
     "text": [
      "[[ 0  1  2]\n",
      " [ 3  4  5]\n",
      " [ 6  7  8]\n",
      " [ 9 10 11]\n",
      " [12 13 14]\n",
      " [15 16 17]]\n"
     ]
    }
   ],
   "source": [
    "#Create an array having consecutive natural numbers of size 6x3 and print it\n",
    "import numpy as np\n",
    "arr1=np.arange(18).reshape(6,3)\n",
    "print(arr1)\n"
   ]
  },
  {
   "cell_type": "code",
   "execution_count": 6,
   "metadata": {},
   "outputs": [
    {
     "name": "stdout",
     "output_type": "stream",
     "text": [
      "  Id  Salary     State_name  Age_person Sex_person  Siblings\n",
      "0  A      50     Tamil Nadu          23          M         0\n",
      "1  B      34      Karnataka          37          F         3\n",
      "2  C      54     Tamil Nadu          35          F         1\n",
      "3  D      24  Uttar Pradesh          26          F         4\n",
      "4  E      19          Bihar          59          M         5\n",
      "5  F      21          Bihar          48          M         6\n",
      "6  G      40          Delhi          30          F         2\n",
      "7  H      20  Uttar Pradesh          72          M        10\n",
      "8  I      30      Telangana          22          F         0\n",
      "9  J      18    Chattisgarh          42          M         7\n",
      "  Id  Salary     State_name  Age_person Sex_person  Siblings\n",
      "0  A      50     Tamil Nadu          23          M         0\n",
      "1  B      34      Karnataka          37          F         3\n",
      "2  C      54     Tamil Nadu          35          F         1\n",
      "3  D      24  Uttar Pradesh          26          F         4\n",
      "4  E      19          Bihar          59          M         5\n",
      "5  F      21          Bihar          48          M         6\n",
      "6  G      40          Delhi          30          F         2\n",
      "7  H      20  Uttar Pradesh          72          M        10\n",
      "8  I      30      Telangana          22          F         0\n",
      "9  J      18    Chattisgarh          42          M         7\n"
     ]
    }
   ],
   "source": [
    "# Rename alll the coumns in the dataset as per your wish and save it in another dataframe and name it df2\n",
    "import pandas as pd\n",
    "df=pd.read_excel(r'C:\\Users\\ruhim\\Downloads\\Week 1 Dataset.xlsx')\n",
    "df2=df.rename(columns={\"Name\":\"Id\",\"Income per month\":\"Salary\",\"State\":\"State_name\",\"Age\":\"Age_person\",\"Sex\":\"Sex_person\",\"Number of siblings\":\"Siblings\"})\n",
    "print(df2)\n",
    "\n",
    "#After you have created df2, make the same changes in the original dataframe using the inplace.\n",
    "df.rename(columns={\"Name\":\"Id\",\"Income per month\":\"Salary\",\"State\":\"State_name\",\"Age\":\"Age_person\",\"Sex\":\"Sex_person\",\"Number of siblings\":\"Siblings\"},inplace=True)\n",
    "print(df)"
   ]
  },
  {
   "cell_type": "code",
   "execution_count": 8,
   "metadata": {},
   "outputs": [
    {
     "data": {
      "text/html": [
       "<div>\n",
       "<style scoped>\n",
       "    .dataframe tbody tr th:only-of-type {\n",
       "        vertical-align: middle;\n",
       "    }\n",
       "\n",
       "    .dataframe tbody tr th {\n",
       "        vertical-align: top;\n",
       "    }\n",
       "\n",
       "    .dataframe thead th {\n",
       "        text-align: right;\n",
       "    }\n",
       "</style>\n",
       "<table border=\"1\" class=\"dataframe\">\n",
       "  <thead>\n",
       "    <tr style=\"text-align: right;\">\n",
       "      <th></th>\n",
       "      <th>Sex_person</th>\n",
       "      <th>Siblings</th>\n",
       "    </tr>\n",
       "  </thead>\n",
       "  <tbody>\n",
       "    <tr>\n",
       "      <th>0</th>\n",
       "      <td>M</td>\n",
       "      <td>0</td>\n",
       "    </tr>\n",
       "    <tr>\n",
       "      <th>1</th>\n",
       "      <td>F</td>\n",
       "      <td>3</td>\n",
       "    </tr>\n",
       "    <tr>\n",
       "      <th>2</th>\n",
       "      <td>F</td>\n",
       "      <td>1</td>\n",
       "    </tr>\n",
       "    <tr>\n",
       "      <th>3</th>\n",
       "      <td>F</td>\n",
       "      <td>4</td>\n",
       "    </tr>\n",
       "    <tr>\n",
       "      <th>4</th>\n",
       "      <td>M</td>\n",
       "      <td>5</td>\n",
       "    </tr>\n",
       "    <tr>\n",
       "      <th>5</th>\n",
       "      <td>M</td>\n",
       "      <td>6</td>\n",
       "    </tr>\n",
       "    <tr>\n",
       "      <th>6</th>\n",
       "      <td>F</td>\n",
       "      <td>2</td>\n",
       "    </tr>\n",
       "    <tr>\n",
       "      <th>7</th>\n",
       "      <td>M</td>\n",
       "      <td>10</td>\n",
       "    </tr>\n",
       "    <tr>\n",
       "      <th>8</th>\n",
       "      <td>F</td>\n",
       "      <td>0</td>\n",
       "    </tr>\n",
       "    <tr>\n",
       "      <th>9</th>\n",
       "      <td>M</td>\n",
       "      <td>7</td>\n",
       "    </tr>\n",
       "  </tbody>\n",
       "</table>\n",
       "</div>"
      ],
      "text/plain": [
       "  Sex_person  Siblings\n",
       "0          M         0\n",
       "1          F         3\n",
       "2          F         1\n",
       "3          F         4\n",
       "4          M         5\n",
       "5          M         6\n",
       "6          F         2\n",
       "7          M        10\n",
       "8          F         0\n",
       "9          M         7"
      ]
     },
     "execution_count": 8,
     "metadata": {},
     "output_type": "execute_result"
    }
   ],
   "source": [
    "# Show only the columns information, sex and number of siblings.\n",
    "df[[\"Sex_person\",\"Siblings\"]]"
   ]
  },
  {
   "cell_type": "code",
   "execution_count": 9,
   "metadata": {},
   "outputs": [
    {
     "data": {
      "text/html": [
       "<div>\n",
       "<style scoped>\n",
       "    .dataframe tbody tr th:only-of-type {\n",
       "        vertical-align: middle;\n",
       "    }\n",
       "\n",
       "    .dataframe tbody tr th {\n",
       "        vertical-align: top;\n",
       "    }\n",
       "\n",
       "    .dataframe thead th {\n",
       "        text-align: right;\n",
       "    }\n",
       "</style>\n",
       "<table border=\"1\" class=\"dataframe\">\n",
       "  <thead>\n",
       "    <tr style=\"text-align: right;\">\n",
       "      <th></th>\n",
       "      <th>Salary</th>\n",
       "      <th>State_name</th>\n",
       "      <th>Age_person</th>\n",
       "      <th>Sex_person</th>\n",
       "    </tr>\n",
       "  </thead>\n",
       "  <tbody>\n",
       "    <tr>\n",
       "      <th>3</th>\n",
       "      <td>24</td>\n",
       "      <td>Uttar Pradesh</td>\n",
       "      <td>26</td>\n",
       "      <td>F</td>\n",
       "    </tr>\n",
       "    <tr>\n",
       "      <th>4</th>\n",
       "      <td>19</td>\n",
       "      <td>Bihar</td>\n",
       "      <td>59</td>\n",
       "      <td>M</td>\n",
       "    </tr>\n",
       "    <tr>\n",
       "      <th>5</th>\n",
       "      <td>21</td>\n",
       "      <td>Bihar</td>\n",
       "      <td>48</td>\n",
       "      <td>M</td>\n",
       "    </tr>\n",
       "    <tr>\n",
       "      <th>6</th>\n",
       "      <td>40</td>\n",
       "      <td>Delhi</td>\n",
       "      <td>30</td>\n",
       "      <td>F</td>\n",
       "    </tr>\n",
       "    <tr>\n",
       "      <th>7</th>\n",
       "      <td>20</td>\n",
       "      <td>Uttar Pradesh</td>\n",
       "      <td>72</td>\n",
       "      <td>M</td>\n",
       "    </tr>\n",
       "    <tr>\n",
       "      <th>8</th>\n",
       "      <td>30</td>\n",
       "      <td>Telangana</td>\n",
       "      <td>22</td>\n",
       "      <td>F</td>\n",
       "    </tr>\n",
       "    <tr>\n",
       "      <th>9</th>\n",
       "      <td>18</td>\n",
       "      <td>Chattisgarh</td>\n",
       "      <td>42</td>\n",
       "      <td>M</td>\n",
       "    </tr>\n",
       "  </tbody>\n",
       "</table>\n",
       "</div>"
      ],
      "text/plain": [
       "   Salary     State_name  Age_person Sex_person\n",
       "3      24  Uttar Pradesh          26          F\n",
       "4      19          Bihar          59          M\n",
       "5      21          Bihar          48          M\n",
       "6      40          Delhi          30          F\n",
       "7      20  Uttar Pradesh          72          M\n",
       "8      30      Telangana          22          F\n",
       "9      18    Chattisgarh          42          M"
      ]
     },
     "execution_count": 9,
     "metadata": {},
     "output_type": "execute_result"
    }
   ],
   "source": [
    "# Use iloc method to print data from column 1 to 4 and rows 3 to 9\n",
    "df.iloc[3:10,1:5]"
   ]
  },
  {
   "cell_type": "code",
   "execution_count": 10,
   "metadata": {},
   "outputs": [
    {
     "data": {
      "text/plain": [
       "0     2\n",
       "10    1\n",
       "7     1\n",
       "6     1\n",
       "5     1\n",
       "4     1\n",
       "3     1\n",
       "2     1\n",
       "1     1\n",
       "Name: Siblings, dtype: int64"
      ]
     },
     "execution_count": 10,
     "metadata": {},
     "output_type": "execute_result"
    }
   ],
   "source": [
    "# Find the total value count of number of siblings in the given dataset\n",
    "df[\"Siblings\"].value_counts()\n"
   ]
  },
  {
   "cell_type": "code",
   "execution_count": null,
   "metadata": {},
   "outputs": [],
   "source": [
    "# What are dependent and independent varibles in our dataset?\n",
    "\n",
    "Number of siblings is a dependent variable and other attributes are independent variables."
   ]
  },
  {
   "cell_type": "code",
   "execution_count": null,
   "metadata": {},
   "outputs": [],
   "source": [
    "# Mention all your finding from the above given heatmap.\n",
    "\n",
    "Income per month and number of siblings are negatively correlated ( As income per month increases, the number of siblings decreases)\n",
    "\n",
    "Age and number of siblings are positively correlated (People who are older have more silings than younger ones)\n",
    "\n",
    "Income per month and age are negatively correlated "
   ]
  }
 ],
 "metadata": {
  "kernelspec": {
   "display_name": "Python 3",
   "language": "python",
   "name": "python3"
  },
  "language_info": {
   "codemirror_mode": {
    "name": "ipython",
    "version": 3
   },
   "file_extension": ".py",
   "mimetype": "text/x-python",
   "name": "python",
   "nbconvert_exporter": "python",
   "pygments_lexer": "ipython3",
   "version": "3.7.4"
  }
 },
 "nbformat": 4,
 "nbformat_minor": 4
}
