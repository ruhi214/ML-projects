{
 "cells": [
  {
   "cell_type": "code",
   "execution_count": 16,
   "metadata": {},
   "outputs": [
    {
     "name": "stdout",
     "output_type": "stream",
     "text": [
      "The training accuracy is 1.0\n",
      "[[83  7]\n",
      " [ 2 51]]\n",
      "testing accuracy of decision tree model is 0.9370629370629371\n"
     ]
    },
    {
     "data": {
      "text/plain": [
       "0.9370629370629371"
      ]
     },
     "execution_count": 16,
     "metadata": {},
     "output_type": "execute_result"
    }
   ],
   "source": [
    "# Decision tree Algo\n",
    "import pandas as pd\n",
    "import numpy as np\n",
    "dataset = pd.read_csv(r'C:\\Users\\ruhim\\Desktop\\cancer dataset.csv')\n",
    "\n",
    "from sklearn.preprocessing import LabelEncoder\n",
    "encoder=LabelEncoder()\n",
    "dataset.iloc[:,1]=encoder.fit_transform(dataset.iloc[:,1].values)\n",
    "\n",
    "X=dataset.iloc[:,2:31].values\n",
    "y=dataset.iloc[:,1].values\n",
    "\n",
    "from sklearn.model_selection import train_test_split\n",
    "X_train,X_test,y_train,y_test=train_test_split(X,y,test_size=0.25,random_state=0)\n",
    "\n",
    "from sklearn.preprocessing import StandardScaler\n",
    "scaler=StandardScaler()\n",
    "X_train = scaler.fit_transform(X_train)\n",
    "X_test =  scaler.fit_transform(X_test)\n",
    "\n",
    "from sklearn.tree import DecisionTreeClassifier\n",
    "classifier=DecisionTreeClassifier(criterion='entropy',random_state=0)\n",
    "classifier.fit(X_train,y_train)\n",
    "y_pred=classifier.predict(X_test)\n",
    "\n",
    "from sklearn.metrics import confusion_matrix,accuracy_score\n",
    "cm=confusion_matrix(y_test,y_pred)\n",
    "print(cm)\n",
    "\n",
    "TP=cm[0][0]\n",
    "TN=cm[1][1]\n",
    "FP=cm[0][1]\n",
    "FN=cm[1][0]\n",
    "\n",
    "print(\"testing accuracy of decision tree model is\",((TP+TN)/(TP+TN+FP+FN)))\n",
    "\n"
   ]
  },
  {
   "cell_type": "code",
   "execution_count": 25,
   "metadata": {},
   "outputs": [
    {
     "name": "stdout",
     "output_type": "stream",
     "text": [
      "[[87  3]\n",
      " [ 2 51]]\n",
      "testing accuracy of decision tree model is 0.965034965034965\n"
     ]
    }
   ],
   "source": [
    "# Random Forest Algo\n",
    "\n",
    "import pandas as pd\n",
    "import numpy as np\n",
    "\n",
    "dataset=pd.read_csv(r'C:\\Users\\ruhim\\Desktop\\cancer dataset.csv')\n",
    "\n",
    "from sklearn.preprocessing import LabelEncoder\n",
    "encoder=LabelEncoder()\n",
    "dataset.iloc[:,1]=encoder.fit_transform(dataset.iloc[:,1].values)\n",
    "\n",
    "X=dataset.iloc[:,2:31].values\n",
    "y=dataset.iloc[:,1].values\n",
    "\n",
    "from sklearn.model_selection import train_test_split\n",
    "X_train,X_test,y_train,y_test=train_test_split(X,y,test_size=0.25,random_state=0)\n",
    "\n",
    "from sklearn.preprocessing import StandardScaler\n",
    "sc=StandardScaler()\n",
    "X_train=sc.fit_transform(X_train)\n",
    "X_test=sc.fit_transform(X_test)\n",
    "\n",
    "from sklearn.ensemble import RandomForestClassifier\n",
    "rc=RandomForestClassifier(n_estimators=10,criterion='entropy',random_state=0)\n",
    "rc.fit(X_train,y_train)\n",
    "\n",
    "y_pred=rc.predict(X_test)\n",
    "\n",
    "from sklearn.metrics import confusion_matrix\n",
    "cm=confusion_matrix(y_test,y_pred)\n",
    "print(cm)\n",
    "\n",
    "TP=cm[0][0]\n",
    "TN=cm[1][1]\n",
    "FP=cm[0][1]\n",
    "FN=cm[1][0]\n",
    "\n",
    "\n",
    "print(\"testing accuracy of decision tree model is\",((TP+TN)/(TP+TN+FP+FN)))"
   ]
  },
  {
   "cell_type": "code",
   "execution_count": null,
   "metadata": {},
   "outputs": [],
   "source": []
  }
 ],
 "metadata": {
  "kernelspec": {
   "display_name": "Python 3",
   "language": "python",
   "name": "python3"
  },
  "language_info": {
   "codemirror_mode": {
    "name": "ipython",
    "version": 3
   },
   "file_extension": ".py",
   "mimetype": "text/x-python",
   "name": "python",
   "nbconvert_exporter": "python",
   "pygments_lexer": "ipython3",
   "version": "3.7.4"
  }
 },
 "nbformat": 4,
 "nbformat_minor": 4
}
